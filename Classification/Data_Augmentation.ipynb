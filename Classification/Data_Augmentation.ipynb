{
 "cells": [
  {
   "cell_type": "code",
   "execution_count": 1,
   "id": "9e3501a9",
   "metadata": {},
   "outputs": [
    {
     "name": "stderr",
     "output_type": "stream",
     "text": [
      "<frozen importlib._bootstrap>:241: RuntimeWarning: scipy._lib.messagestream.MessageStream size changed, may indicate binary incompatibility. Expected 56 from C header, got 64 from PyObject\n"
     ]
    }
   ],
   "source": [
    "import pandas as pd\n",
    "import re\n",
    "import seaborn as sns\n",
    "from tqdm import tqdm_notebook "
   ]
  },
  {
   "cell_type": "markdown",
   "id": "f7c8ce61",
   "metadata": {},
   "source": [
    "# Text preprocessing"
   ]
  },
  {
   "cell_type": "code",
   "execution_count": 2,
   "id": "71d03cc8",
   "metadata": {},
   "outputs": [],
   "source": [
    "train_data = pd.read_csv('train_dataset_train.csv')"
   ]
  },
  {
   "cell_type": "code",
   "execution_count": 3,
   "id": "852eafd4",
   "metadata": {},
   "outputs": [
    {
     "data": {
      "text/html": [
       "<div>\n",
       "<style scoped>\n",
       "    .dataframe tbody tr th:only-of-type {\n",
       "        vertical-align: middle;\n",
       "    }\n",
       "\n",
       "    .dataframe tbody tr th {\n",
       "        vertical-align: top;\n",
       "    }\n",
       "\n",
       "    .dataframe thead th {\n",
       "        text-align: right;\n",
       "    }\n",
       "</style>\n",
       "<table border=\"1\" class=\"dataframe\">\n",
       "  <thead>\n",
       "    <tr style=\"text-align: right;\">\n",
       "      <th></th>\n",
       "      <th>id</th>\n",
       "      <th>Текст Сообщения</th>\n",
       "      <th>Тематика</th>\n",
       "      <th>Ответственное лицо</th>\n",
       "      <th>Категория</th>\n",
       "    </tr>\n",
       "  </thead>\n",
       "  <tbody>\n",
       "    <tr>\n",
       "      <th>0</th>\n",
       "      <td>2246</td>\n",
       "      <td>Помогите начальник Льговского рэс не реагирует...</td>\n",
       "      <td>Нарушения, связанные с содержанием электросети...</td>\n",
       "      <td>Администрация Льговского района</td>\n",
       "      <td>3</td>\n",
       "    </tr>\n",
       "    <tr>\n",
       "      <th>1</th>\n",
       "      <td>380</td>\n",
       "      <td>&lt;p&gt;По фасаду дома по адресу ул. Урицкого 22 пр...</td>\n",
       "      <td>Аварийные деревья</td>\n",
       "      <td>Администрация города Курска</td>\n",
       "      <td>3</td>\n",
       "    </tr>\n",
       "    <tr>\n",
       "      <th>2</th>\n",
       "      <td>2240</td>\n",
       "      <td>Агресивные собаки. На радуге там стая из подро...</td>\n",
       "      <td>Безнадзорные животные</td>\n",
       "      <td>Администрация города Курска</td>\n",
       "      <td>1</td>\n",
       "    </tr>\n",
       "    <tr>\n",
       "      <th>3</th>\n",
       "      <td>596</td>\n",
       "      <td>&lt;p&gt;На пересечении &amp;nbsp;улиц Сосновская и Бере...</td>\n",
       "      <td>Нескошенная сорная растительность в местах общ...</td>\n",
       "      <td>Комитет дорожного хозяйства города Курска</td>\n",
       "      <td>3</td>\n",
       "    </tr>\n",
       "    <tr>\n",
       "      <th>4</th>\n",
       "      <td>1797</td>\n",
       "      <td>&lt;p style=`text-align:justify;`&gt;&lt;span style=`ba...</td>\n",
       "      <td>Аварийные деревья</td>\n",
       "      <td>Комитет городского хозяйства города Курска</td>\n",
       "      <td>3</td>\n",
       "    </tr>\n",
       "    <tr>\n",
       "      <th>...</th>\n",
       "      <td>...</td>\n",
       "      <td>...</td>\n",
       "      <td>...</td>\n",
       "      <td>...</td>\n",
       "      <td>...</td>\n",
       "    </tr>\n",
       "    <tr>\n",
       "      <th>1995</th>\n",
       "      <td>1356</td>\n",
       "      <td>&lt;p&gt;22.12.21 в вечернее время появилась вонь от...</td>\n",
       "      <td>Неприятные запахи</td>\n",
       "      <td>Комитет природных ресурсов Курской области</td>\n",
       "      <td>16</td>\n",
       "    </tr>\n",
       "    <tr>\n",
       "      <th>1996</th>\n",
       "      <td>243</td>\n",
       "      <td>&lt;p&gt;Добрый день! Хочу сообщить о такой проблеме...</td>\n",
       "      <td>Парковки на дорогах в границах городских округ...</td>\n",
       "      <td>Администрация города Курска</td>\n",
       "      <td>0</td>\n",
       "    </tr>\n",
       "    <tr>\n",
       "      <th>1997</th>\n",
       "      <td>2350</td>\n",
       "      <td>Состоят 3 засохшие дерева (2 большие  берёзы и...</td>\n",
       "      <td>Аварийные деревья</td>\n",
       "      <td>Администрация города Курска</td>\n",
       "      <td>3</td>\n",
       "    </tr>\n",
       "    <tr>\n",
       "      <th>1998</th>\n",
       "      <td>1937</td>\n",
       "      <td>Пожалуйста роман Владимирович, в скором времен...</td>\n",
       "      <td>Нарушение дорожного покрытия (ямы)  на дорогах...</td>\n",
       "      <td>Администрация города Курска</td>\n",
       "      <td>0</td>\n",
       "    </tr>\n",
       "    <tr>\n",
       "      <th>1999</th>\n",
       "      <td>1185</td>\n",
       "      <td>&lt;p&gt;Сдан ПЦР-тест 29.10.2021г., но результат те...</td>\n",
       "      <td>ПЦР-тест, тест на антитела</td>\n",
       "      <td>Комитет здравоохранения Курской области</td>\n",
       "      <td>4</td>\n",
       "    </tr>\n",
       "  </tbody>\n",
       "</table>\n",
       "<p>2000 rows × 5 columns</p>\n",
       "</div>"
      ],
      "text/plain": [
       "        id                                    Текст Сообщения  \\\n",
       "0     2246  Помогите начальник Льговского рэс не реагирует...   \n",
       "1      380  <p>По фасаду дома по адресу ул. Урицкого 22 пр...   \n",
       "2     2240  Агресивные собаки. На радуге там стая из подро...   \n",
       "3      596  <p>На пересечении &nbsp;улиц Сосновская и Бере...   \n",
       "4     1797  <p style=`text-align:justify;`><span style=`ba...   \n",
       "...    ...                                                ...   \n",
       "1995  1356  <p>22.12.21 в вечернее время появилась вонь от...   \n",
       "1996   243  <p>Добрый день! Хочу сообщить о такой проблеме...   \n",
       "1997  2350  Состоят 3 засохшие дерева (2 большие  берёзы и...   \n",
       "1998  1937  Пожалуйста роман Владимирович, в скором времен...   \n",
       "1999  1185  <p>Сдан ПЦР-тест 29.10.2021г., но результат те...   \n",
       "\n",
       "                                               Тематика  \\\n",
       "0     Нарушения, связанные с содержанием электросети...   \n",
       "1                                     Аварийные деревья   \n",
       "2                                 Безнадзорные животные   \n",
       "3     Нескошенная сорная растительность в местах общ...   \n",
       "4                                     Аварийные деревья   \n",
       "...                                                 ...   \n",
       "1995                                  Неприятные запахи   \n",
       "1996  Парковки на дорогах в границах городских округ...   \n",
       "1997                                  Аварийные деревья   \n",
       "1998  Нарушение дорожного покрытия (ямы)  на дорогах...   \n",
       "1999                         ПЦР-тест, тест на антитела   \n",
       "\n",
       "                              Ответственное лицо  Категория  \n",
       "0                Администрация Льговского района          3  \n",
       "1                    Администрация города Курска          3  \n",
       "2                    Администрация города Курска          1  \n",
       "3      Комитет дорожного хозяйства города Курска          3  \n",
       "4     Комитет городского хозяйства города Курска          3  \n",
       "...                                          ...        ...  \n",
       "1995  Комитет природных ресурсов Курской области         16  \n",
       "1996                 Администрация города Курска          0  \n",
       "1997                 Администрация города Курска          3  \n",
       "1998                 Администрация города Курска          0  \n",
       "1999     Комитет здравоохранения Курской области          4  \n",
       "\n",
       "[2000 rows x 5 columns]"
      ]
     },
     "execution_count": 3,
     "metadata": {},
     "output_type": "execute_result"
    }
   ],
   "source": [
    "train_data"
   ]
  },
  {
   "cell_type": "code",
   "execution_count": 30,
   "id": "7990e2d6",
   "metadata": {},
   "outputs": [
    {
     "data": {
      "text/plain": [
       "array([ 3,  1, 16,  0,  6,  8,  4, 13, 10, 11, 14,  7,  5, 15,  2,  9, 12])"
      ]
     },
     "execution_count": 30,
     "metadata": {},
     "output_type": "execute_result"
    }
   ],
   "source": [
    "train_data['Категория'].unique()"
   ]
  },
  {
   "cell_type": "code",
   "execution_count": 5,
   "id": "3d44bb26",
   "metadata": {},
   "outputs": [
    {
     "data": {
      "text/plain": [
       "<AxesSubplot:xlabel='Категория', ylabel='count'>"
      ]
     },
     "execution_count": 5,
     "metadata": {},
     "output_type": "execute_result"
    },
    {
     "data": {
      "image/png": "[encoded data removed]",
      "text/plain": [
       "<Figure size 432x288 with 1 Axes>"
      ]
     },
     "metadata": {
      "needs_background": "light"
     },
     "output_type": "display_data"
    }
   ],
   "source": [
    "sns.countplot(x='Категория', data=train_data)"
   ]
  },
  {
   "cell_type": "code",
   "execution_count": 6,
   "id": "2c25ccd8",
   "metadata": {},
   "outputs": [
    {
     "data": {
      "text/plain": [
       "954"
      ]
     },
     "execution_count": 6,
     "metadata": {},
     "output_type": "execute_result"
    }
   ],
   "source": [
    "len(train_data[train_data['Категория']==3])"
   ]
  },
  {
   "cell_type": "code",
   "execution_count": 7,
   "id": "c7469618",
   "metadata": {},
   "outputs": [],
   "source": [
    "MAX_LEN_DATA = 954"
   ]
  },
  {
   "cell_type": "markdown",
   "id": "9d20e911",
   "metadata": {},
   "source": [
    "## Text augmentation"
   ]
  },
  {
   "cell_type": "code",
   "execution_count": 8,
   "id": "14be8db3",
   "metadata": {},
   "outputs": [],
   "source": [
    "import nlpaug.augmenter.char as nac\n",
    "import nlpaug.augmenter.word as naw\n",
    "import nlpaug.augmenter.sentence as nas\n",
    "import nlpaug.flow as naf\n",
    "\n",
    "from nlpaug.util import Action"
   ]
  },
  {
   "cell_type": "code",
   "execution_count": 9,
   "id": "49b4001c",
   "metadata": {},
   "outputs": [],
   "source": [
    "text = 'Помогите начальник Льговского рэс не реагирует на жалобы, а мы как малейший ветер сидим без света, а именно в деревне большие угоны улица старая слобода. Пожалуйста помогите, пускай вычистит и фотоотчет сделает'"
   ]
  },
  {
   "cell_type": "code",
   "execution_count": 10,
   "id": "431720ae",
   "metadata": {},
   "outputs": [
    {
     "name": "stdout",
     "output_type": "stream",
     "text": [
      "Original:\n",
      "Помогите начальник Льговского рэс не реагирует на жалобы, а мы как малейший ветер сидим без света, а именно в деревне большие угоны улица старая слобода. Пожалуйста помогите, пускай вычистит и фотоотчет сделает\n",
      "Augmented Text:\n",
      "['Помогите начальник Льговского рэс отдела реагирует через условия, а понимаем как малейший двор сидим без света, а именно этой деревне большие угоны была старая слобода. Пожалуйста помогите, компанию вычистит на фотоотчет проведет', 'Помогите начальник Да рэс всегда реагирует на ветер, а мы с малейший ветер сидим без транспорта, зачастую именно в сдаче в угоны улица старая улица. Пожалуйста помогите, пускай вычистит ваш фотоотчет сделает', 'Помогите начальник Льговского СИЗО УК реагирует все жалобы, а мы как малейший ветер сидим без машин, а именно в наиболее большие угоны улица Липецкая слобода. Пожалуйста будут, пускай вычистит камеры следить будут']\n"
     ]
    }
   ],
   "source": [
    "aug_test = naw.ContextualWordEmbsAug(\n",
    "    model_path='DeepPavlov/rubert-base-cased', action=\"substitute\")\n",
    "augmented_text = aug_test.augment(text, n=3)\n",
    "print(\"Original:\")\n",
    "print(text)\n",
    "print(\"Augmented Text:\")\n",
    "print(augmented_text)"
   ]
  },
  {
   "cell_type": "code",
   "execution_count": 11,
   "id": "fe9709f9",
   "metadata": {},
   "outputs": [],
   "source": [
    "augment_df = pd.DataFrame(data=[], columns=['text', 'tema', 'bailee', 'categories'])"
   ]
  },
  {
   "cell_type": "code",
   "execution_count": 12,
   "id": "e23e5e6a",
   "metadata": {},
   "outputs": [
    {
     "name": "stderr",
     "output_type": "stream",
     "text": [
      "/tmp/ipykernel_6711/1619865902.py:1: TqdmDeprecationWarning: This function will be removed in tqdm==5.0.0\n",
      "Please use `tqdm.notebook.tqdm` instead of `tqdm.tqdm_notebook`\n",
      "  for num_classes in tqdm_notebook(range(17)):\n"
     ]
    },
    {
     "data": {
      "application/vnd.jupyter.widget-view+json": {
       "model_id": "bb69d974c1e84de6bebbb5e02f4396e8",
       "version_major": 2,
       "version_minor": 0
      },
      "text/plain": [
       "  0%|          | 0/17 [00:00<?, ?it/s]"
      ]
     },
     "metadata": {},
     "output_type": "display_data"
    }
   ],
   "source": [
    "for num_classes in tqdm_notebook(range(17)):\n",
    "    if num_classes != 3:\n",
    "        temp = train_data[train_data['Категория']==num_classes]\n",
    "        count_aug = int(round((MAX_LEN_DATA - len(temp))/len(temp),0))\n",
    "        temp_df = pd.DataFrame(data=[], columns=['text', 'tema', 'bailee', 'categories'])\n",
    "        list_new_text = []\n",
    "        for idx in range(len(temp)):\n",
    "            str_temp = temp.iloc()[idx]        \n",
    "            temp_df['text'] = aug_test.augment(str_temp['Текст Сообщения'], n=count_aug)\n",
    "            temp_df['categories'] = str_temp['Категория']\n",
    "            temp_df['tema'] = str_temp['Тематика']\n",
    "            temp_df['bailee'] = str_temp['Ответственное лицо']\n",
    "            augment_df = pd.concat([augment_df, temp_df])       \n",
    "    "
   ]
  },
  {
   "cell_type": "code",
   "execution_count": 13,
   "id": "c823c2a0",
   "metadata": {},
   "outputs": [
    {
     "data": {
      "text/html": [
       "<div>\n",
       "<style scoped>\n",
       "    .dataframe tbody tr th:only-of-type {\n",
       "        vertical-align: middle;\n",
       "    }\n",
       "\n",
       "    .dataframe tbody tr th {\n",
       "        vertical-align: top;\n",
       "    }\n",
       "\n",
       "    .dataframe thead th {\n",
       "        text-align: right;\n",
       "    }\n",
       "</style>\n",
       "<table border=\"1\" class=\"dataframe\">\n",
       "  <thead>\n",
       "    <tr style=\"text-align: right;\">\n",
       "      <th></th>\n",
       "      <th>text</th>\n",
       "      <th>tema</th>\n",
       "      <th>bailee</th>\n",
       "      <th>categories</th>\n",
       "    </tr>\n",
       "  </thead>\n",
       "  <tbody>\n",
       "    <tr>\n",
       "      <th>0</th>\n",
       "      <td>&lt; p &gt; Добрый день. &amp; nbsp ; &lt; / p &gt; &lt; p &gt; по о...</td>\n",
       "      <td>Пешеходные переходы на дорогах в границах горо...</td>\n",
       "      <td>Комитет природных ресурсов Курской области</td>\n",
       "      <td>0</td>\n",
       "    </tr>\n",
       "    <tr>\n",
       "      <th>0</th>\n",
       "      <td>Напомним, в д. Старый Свет уже 3 дня не чистят...</td>\n",
       "      <td>Очистка от снега и наледи дорог в границах гор...</td>\n",
       "      <td>Администрация Железногорского района</td>\n",
       "      <td>0</td>\n",
       "    </tr>\n",
       "    <tr>\n",
       "      <th>0</th>\n",
       "      <td>&lt; p &gt; Детский день. просят помощи в решении на...</td>\n",
       "      <td>Нарушение дорожного покрытия (ямы)  на дорогах...</td>\n",
       "      <td>Комитет городского хозяйства города Курска</td>\n",
       "      <td>0</td>\n",
       "    </tr>\n",
       "    <tr>\n",
       "      <th>0</th>\n",
       "      <td>&lt; 380 &gt; Минска &amp; 2 ; &lt; / en &gt;</td>\n",
       "      <td>Нарушение дорожного покрытия (ямы)  на дорогах...</td>\n",
       "      <td>Комитет дорожного хозяйства города Курска</td>\n",
       "      <td>0</td>\n",
       "    </tr>\n",
       "    <tr>\n",
       "      <th>0</th>\n",
       "      <td>&lt; p &gt; Добрый день. Сегодня 17. 08. 2021 напрот...</td>\n",
       "      <td>Пешеходные переходы на дорогах в границах горо...</td>\n",
       "      <td>Комитет дорожного хозяйства города Курска</td>\n",
       "      <td>0</td>\n",
       "    </tr>\n",
       "    <tr>\n",
       "      <th>...</th>\n",
       "      <td>...</td>\n",
       "      <td>...</td>\n",
       "      <td>...</td>\n",
       "      <td>...</td>\n",
       "    </tr>\n",
       "    <tr>\n",
       "      <th>0</th>\n",
       "      <td>&lt; p &gt; 23. 05. 2001 в вечернее выходной готовит...</td>\n",
       "      <td>Неприятные запахи</td>\n",
       "      <td>Комитет природных ресурсов Курской области</td>\n",
       "      <td>16</td>\n",
       "    </tr>\n",
       "    <tr>\n",
       "      <th>1</th>\n",
       "      <td>&lt; p &gt; 22. 11. 52 с 6 окно — очистка от Грибной...</td>\n",
       "      <td>Неприятные запахи</td>\n",
       "      <td>Комитет природных ресурсов Курской области</td>\n",
       "      <td>16</td>\n",
       "    </tr>\n",
       "    <tr>\n",
       "      <th>2</th>\n",
       "      <td>&lt; е &gt; 13. 11. 21 в вечернее время прошла вонь ...</td>\n",
       "      <td>Неприятные запахи</td>\n",
       "      <td>Комитет природных ресурсов Курской области</td>\n",
       "      <td>16</td>\n",
       "    </tr>\n",
       "    <tr>\n",
       "      <th>3</th>\n",
       "      <td>&lt; p &gt; 07. 12. 21 в вечернее время – дата по во...</td>\n",
       "      <td>Неприятные запахи</td>\n",
       "      <td>Комитет природных ресурсов Курской области</td>\n",
       "      <td>16</td>\n",
       "    </tr>\n",
       "    <tr>\n",
       "      <th>4</th>\n",
       "      <td>&lt; p &gt; 94. 04. 21 в ночные часы появилась вода ...</td>\n",
       "      <td>Неприятные запахи</td>\n",
       "      <td>Комитет природных ресурсов Курской области</td>\n",
       "      <td>16</td>\n",
       "    </tr>\n",
       "  </tbody>\n",
       "</table>\n",
       "<p>15134 rows × 4 columns</p>\n",
       "</div>"
      ],
      "text/plain": [
       "                                                 text  \\\n",
       "0   < p > Добрый день. & nbsp ; < / p > < p > по о...   \n",
       "0   Напомним, в д. Старый Свет уже 3 дня не чистят...   \n",
       "0   < p > Детский день. просят помощи в решении на...   \n",
       "0                       < 380 > Минска & 2 ; < / en >   \n",
       "0   < p > Добрый день. Сегодня 17. 08. 2021 напрот...   \n",
       "..                                                ...   \n",
       "0   < p > 23. 05. 2001 в вечернее выходной готовит...   \n",
       "1   < p > 22. 11. 52 с 6 окно — очистка от Грибной...   \n",
       "2   < е > 13. 11. 21 в вечернее время прошла вонь ...   \n",
       "3   < p > 07. 12. 21 в вечернее время – дата по во...   \n",
       "4   < p > 94. 04. 21 в ночные часы появилась вода ...   \n",
       "\n",
       "                                                 tema  \\\n",
       "0   Пешеходные переходы на дорогах в границах горо...   \n",
       "0   Очистка от снега и наледи дорог в границах гор...   \n",
       "0   Нарушение дорожного покрытия (ямы)  на дорогах...   \n",
       "0   Нарушение дорожного покрытия (ямы)  на дорогах...   \n",
       "0   Пешеходные переходы на дорогах в границах горо...   \n",
       "..                                                ...   \n",
       "0                                   Неприятные запахи   \n",
       "1                                   Неприятные запахи   \n",
       "2                                   Неприятные запахи   \n",
       "3                                   Неприятные запахи   \n",
       "4                                   Неприятные запахи   \n",
       "\n",
       "                                        bailee categories  \n",
       "0   Комитет природных ресурсов Курской области          0  \n",
       "0         Администрация Железногорского района          0  \n",
       "0   Комитет городского хозяйства города Курска          0  \n",
       "0    Комитет дорожного хозяйства города Курска          0  \n",
       "0    Комитет дорожного хозяйства города Курска          0  \n",
       "..                                         ...        ...  \n",
       "0   Комитет природных ресурсов Курской области         16  \n",
       "1   Комитет природных ресурсов Курской области         16  \n",
       "2   Комитет природных ресурсов Курской области         16  \n",
       "3   Комитет природных ресурсов Курской области         16  \n",
       "4   Комитет природных ресурсов Курской области         16  \n",
       "\n",
       "[15134 rows x 4 columns]"
      ]
     },
     "execution_count": 13,
     "metadata": {},
     "output_type": "execute_result"
    }
   ],
   "source": [
    "augment_df"
   ]
  },
  {
   "cell_type": "code",
   "execution_count": 21,
   "id": "86ca9149",
   "metadata": {},
   "outputs": [],
   "source": [
    "augment_df = augment_df[augment_df['categories'] != 3]"
   ]
  },
  {
   "cell_type": "code",
   "execution_count": 49,
   "id": "35adb0b5",
   "metadata": {},
   "outputs": [
    {
     "data": {
      "text/plain": [
       "'Помогите начальник Льговского рэс не реагирует на жалобы, а мы как малейший ветер сидим без света, а именно в деревне большие угоны улица старая слобода. Пожалуйста помогите, пускай вычистит и фотоотчет сделает'"
      ]
     },
     "execution_count": 49,
     "metadata": {},
     "output_type": "execute_result"
    }
   ],
   "source": [
    "train_data.iloc()[0]['Текст Сообщения']"
   ]
  },
  {
   "cell_type": "code",
   "execution_count": 24,
   "id": "925b7132",
   "metadata": {},
   "outputs": [],
   "source": [
    "augment_df.to_csv('train_aug_bert_model.csv', index=False)"
   ]
  },
  {
   "cell_type": "code",
   "execution_count": 15,
   "id": "8115849e",
   "metadata": {},
   "outputs": [],
   "source": [
    "train_data_new = train_data[['Текст Сообщения', 'Тематика', 'Ответственное лицо', 'Категория']]"
   ]
  },
  {
   "cell_type": "code",
   "execution_count": 16,
   "id": "7f0ac9b3",
   "metadata": {},
   "outputs": [],
   "source": [
    "train_data_new.columns = ['text', 'tema', 'bailee', 'categories']"
   ]
  },
  {
   "cell_type": "code",
   "execution_count": 22,
   "id": "6499e7df",
   "metadata": {},
   "outputs": [],
   "source": [
    "train = pd.concat([train_data_new, augment_df])"
   ]
  },
  {
   "cell_type": "code",
   "execution_count": 23,
   "id": "f33fbbc1",
   "metadata": {},
   "outputs": [
    {
     "data": {
      "text/plain": [
       "<AxesSubplot:xlabel='categories', ylabel='count'>"
      ]
     },
     "execution_count": 23,
     "metadata": {},
     "output_type": "execute_result"
    },
    {
     "data": {
      "image/png": "[encoded data removed]",
      "text/plain": [
       "<Figure size 432x288 with 1 Axes>"
      ]
     },
     "metadata": {
      "needs_background": "light"
     },
     "output_type": "display_data"
    }
   ],
   "source": [
    "sns.countplot(x='categories', data=train)"
   ]
  },
  {
   "cell_type": "code",
   "execution_count": 25,
   "id": "cdfc029f",
   "metadata": {},
   "outputs": [
    {
     "data": {
      "text/html": [
       "<div>\n",
       "<style scoped>\n",
       "    .dataframe tbody tr th:only-of-type {\n",
       "        vertical-align: middle;\n",
       "    }\n",
       "\n",
       "    .dataframe tbody tr th {\n",
       "        vertical-align: top;\n",
       "    }\n",
       "\n",
       "    .dataframe thead th {\n",
       "        text-align: right;\n",
       "    }\n",
       "</style>\n",
       "<table border=\"1\" class=\"dataframe\">\n",
       "  <thead>\n",
       "    <tr style=\"text-align: right;\">\n",
       "      <th></th>\n",
       "      <th>text</th>\n",
       "      <th>tema</th>\n",
       "      <th>bailee</th>\n",
       "      <th>categories</th>\n",
       "    </tr>\n",
       "  </thead>\n",
       "  <tbody>\n",
       "    <tr>\n",
       "      <th>0</th>\n",
       "      <td>Помогите начальник Льговского рэс не реагирует...</td>\n",
       "      <td>Нарушения, связанные с содержанием электросети...</td>\n",
       "      <td>Администрация Льговского района</td>\n",
       "      <td>3</td>\n",
       "    </tr>\n",
       "    <tr>\n",
       "      <th>1</th>\n",
       "      <td>&lt;p&gt;По фасаду дома по адресу ул. Урицкого 22 пр...</td>\n",
       "      <td>Аварийные деревья</td>\n",
       "      <td>Администрация города Курска</td>\n",
       "      <td>3</td>\n",
       "    </tr>\n",
       "    <tr>\n",
       "      <th>2</th>\n",
       "      <td>Агресивные собаки. На радуге там стая из подро...</td>\n",
       "      <td>Безнадзорные животные</td>\n",
       "      <td>Администрация города Курска</td>\n",
       "      <td>1</td>\n",
       "    </tr>\n",
       "    <tr>\n",
       "      <th>3</th>\n",
       "      <td>&lt;p&gt;На пересечении &amp;nbsp;улиц Сосновская и Бере...</td>\n",
       "      <td>Нескошенная сорная растительность в местах общ...</td>\n",
       "      <td>Комитет дорожного хозяйства города Курска</td>\n",
       "      <td>3</td>\n",
       "    </tr>\n",
       "    <tr>\n",
       "      <th>4</th>\n",
       "      <td>&lt;p style=`text-align:justify;`&gt;&lt;span style=`ba...</td>\n",
       "      <td>Аварийные деревья</td>\n",
       "      <td>Комитет городского хозяйства города Курска</td>\n",
       "      <td>3</td>\n",
       "    </tr>\n",
       "    <tr>\n",
       "      <th>...</th>\n",
       "      <td>...</td>\n",
       "      <td>...</td>\n",
       "      <td>...</td>\n",
       "      <td>...</td>\n",
       "    </tr>\n",
       "    <tr>\n",
       "      <th>0</th>\n",
       "      <td>&lt; p &gt; 23. 05. 2001 в вечернее выходной готовит...</td>\n",
       "      <td>Неприятные запахи</td>\n",
       "      <td>Комитет природных ресурсов Курской области</td>\n",
       "      <td>16</td>\n",
       "    </tr>\n",
       "    <tr>\n",
       "      <th>1</th>\n",
       "      <td>&lt; p &gt; 22. 11. 52 с 6 окно — очистка от Грибной...</td>\n",
       "      <td>Неприятные запахи</td>\n",
       "      <td>Комитет природных ресурсов Курской области</td>\n",
       "      <td>16</td>\n",
       "    </tr>\n",
       "    <tr>\n",
       "      <th>2</th>\n",
       "      <td>&lt; е &gt; 13. 11. 21 в вечернее время прошла вонь ...</td>\n",
       "      <td>Неприятные запахи</td>\n",
       "      <td>Комитет природных ресурсов Курской области</td>\n",
       "      <td>16</td>\n",
       "    </tr>\n",
       "    <tr>\n",
       "      <th>3</th>\n",
       "      <td>&lt; p &gt; 07. 12. 21 в вечернее время – дата по во...</td>\n",
       "      <td>Неприятные запахи</td>\n",
       "      <td>Комитет природных ресурсов Курской области</td>\n",
       "      <td>16</td>\n",
       "    </tr>\n",
       "    <tr>\n",
       "      <th>4</th>\n",
       "      <td>&lt; p &gt; 94. 04. 21 в ночные часы появилась вода ...</td>\n",
       "      <td>Неприятные запахи</td>\n",
       "      <td>Комитет природных ресурсов Курской области</td>\n",
       "      <td>16</td>\n",
       "    </tr>\n",
       "  </tbody>\n",
       "</table>\n",
       "<p>16180 rows × 4 columns</p>\n",
       "</div>"
      ],
      "text/plain": [
       "                                                 text  \\\n",
       "0   Помогите начальник Льговского рэс не реагирует...   \n",
       "1   <p>По фасаду дома по адресу ул. Урицкого 22 пр...   \n",
       "2   Агресивные собаки. На радуге там стая из подро...   \n",
       "3   <p>На пересечении &nbsp;улиц Сосновская и Бере...   \n",
       "4   <p style=`text-align:justify;`><span style=`ba...   \n",
       "..                                                ...   \n",
       "0   < p > 23. 05. 2001 в вечернее выходной готовит...   \n",
       "1   < p > 22. 11. 52 с 6 окно — очистка от Грибной...   \n",
       "2   < е > 13. 11. 21 в вечернее время прошла вонь ...   \n",
       "3   < p > 07. 12. 21 в вечернее время – дата по во...   \n",
       "4   < p > 94. 04. 21 в ночные часы появилась вода ...   \n",
       "\n",
       "                                                 tema  \\\n",
       "0   Нарушения, связанные с содержанием электросети...   \n",
       "1                                   Аварийные деревья   \n",
       "2                               Безнадзорные животные   \n",
       "3   Нескошенная сорная растительность в местах общ...   \n",
       "4                                   Аварийные деревья   \n",
       "..                                                ...   \n",
       "0                                   Неприятные запахи   \n",
       "1                                   Неприятные запахи   \n",
       "2                                   Неприятные запахи   \n",
       "3                                   Неприятные запахи   \n",
       "4                                   Неприятные запахи   \n",
       "\n",
       "                                        bailee categories  \n",
       "0              Администрация Льговского района          3  \n",
       "1                  Администрация города Курска          3  \n",
       "2                  Администрация города Курска          1  \n",
       "3    Комитет дорожного хозяйства города Курска          3  \n",
       "4   Комитет городского хозяйства города Курска          3  \n",
       "..                                         ...        ...  \n",
       "0   Комитет природных ресурсов Курской области         16  \n",
       "1   Комитет природных ресурсов Курской области         16  \n",
       "2   Комитет природных ресурсов Курской области         16  \n",
       "3   Комитет природных ресурсов Курской области         16  \n",
       "4   Комитет природных ресурсов Курской области         16  \n",
       "\n",
       "[16180 rows x 4 columns]"
      ]
     },
     "execution_count": 25,
     "metadata": {},
     "output_type": "execute_result"
    }
   ],
   "source": [
    "train"
   ]
  },
  {
   "cell_type": "markdown",
   "id": "a874cf52",
   "metadata": {},
   "source": [
    "## Token Analise"
   ]
  },
  {
   "cell_type": "code",
   "execution_count": 26,
   "id": "84613554",
   "metadata": {},
   "outputs": [],
   "source": [
    "from transformers import BertTokenizer, BertModel\n",
    "import torch\n",
    "from torch import nn\n",
    "import transformers"
   ]
  },
  {
   "cell_type": "code",
   "execution_count": 27,
   "id": "99471c33",
   "metadata": {},
   "outputs": [],
   "source": [
    "tokenizer = BertTokenizer.from_pretrained(pretrained_model_name_or_path='DeepPavlov/rubert-base-cased')"
   ]
  },
  {
   "cell_type": "code",
   "execution_count": 28,
   "id": "b30f4907",
   "metadata": {},
   "outputs": [],
   "source": [
    "def get_token_len(x):\n",
    "    x = tokenizer.encode_plus(x,\n",
    "                          add_special_tokens=True,\n",
    "                          max_length=512,\n",
    "                          return_token_type_ids=False,\n",
    "                          pad_to_max_length=False,\n",
    "                          return_attention_mask=False,\n",
    "                          truncation=True\n",
    "                          )\n",
    "    return len(x['input_ids'])"
   ]
  },
  {
   "cell_type": "code",
   "execution_count": 29,
   "id": "53c835e0",
   "metadata": {},
   "outputs": [],
   "source": [
    "train['count_tokens'] = train.text.apply(get_token_len)"
   ]
  },
  {
   "cell_type": "code",
   "execution_count": 30,
   "id": "2f39ea1d",
   "metadata": {},
   "outputs": [
    {
     "name": "stderr",
     "output_type": "stream",
     "text": [
      "/home/odin/anaconda3/envs/torch2/lib/python3.10/site-packages/seaborn/distributions.py:2619: FutureWarning: `distplot` is a deprecated function and will be removed in a future version. Please adapt your code to use either `displot` (a figure-level function with similar flexibility) or `histplot` (an axes-level function for histograms).\n",
      "  warnings.warn(msg, FutureWarning)\n"
     ]
    },
    {
     "data": {
      "text/plain": [
       "<AxesSubplot:xlabel='count_tokens', ylabel='Density'>"
      ]
     },
     "execution_count": 30,
     "metadata": {},
     "output_type": "execute_result"
    },
    {
     "data": {
      "image/png": "[encoded data removed]",
      "text/plain": [
       "<Figure size 432x288 with 1 Axes>"
      ]
     },
     "metadata": {
      "needs_background": "light"
     },
     "output_type": "display_data"
    }
   ],
   "source": [
    "sns.distplot(train['count_tokens'])"
   ]
  },
  {
   "cell_type": "code",
   "execution_count": 31,
   "id": "17b901f3",
   "metadata": {},
   "outputs": [
    {
     "data": {
      "text/plain": [
       "512"
      ]
     },
     "execution_count": 31,
     "metadata": {},
     "output_type": "execute_result"
    }
   ],
   "source": [
    "max(train['count_tokens'])"
   ]
  },
  {
   "cell_type": "code",
   "execution_count": null,
   "id": "e6aa56da",
   "metadata": {},
   "outputs": [],
   "source": []
  }
 ],
 "metadata": {
  "kernelspec": {
   "display_name": "Python [conda env:torch2]",
   "language": "python",
   "name": "conda-env-torch2-py"
  },
  "language_info": {
   "codemirror_mode": {
    "name": "ipython",
    "version": 3
   },
   "file_extension": ".py",
   "mimetype": "text/x-python",
   "name": "python",
   "nbconvert_exporter": "python",
   "pygments_lexer": "ipython3",
   "version": "3.10.4"
  },
  "toc": {
   "base_numbering": 1,
   "nav_menu": {},
   "number_sections": true,
   "sideBar": true,
   "skip_h1_title": false,
   "title_cell": "Table of Contents",
   "title_sidebar": "Contents",
   "toc_cell": false,
   "toc_position": {},
   "toc_section_display": true,
   "toc_window_display": false
  }
 },
 "nbformat": 4,
 "nbformat_minor": 5
}
