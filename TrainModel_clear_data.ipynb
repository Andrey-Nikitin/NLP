{
 "cells": [
  {
   "cell_type": "markdown",
   "id": "6b8056a4",
   "metadata": {},
   "source": [
    "# Импорт необходимых библиотек"
   ]
  },
  {
   "cell_type": "code",
   "execution_count": 15,
   "id": "1e11d2a6",
   "metadata": {},
   "outputs": [],
   "source": [
    "import pandas as pd\n",
    "import re\n",
    "import seaborn as sns\n",
    "from tqdm import tqdm_notebook\n",
    "\n",
    "from transformers import BertModel, BertTokenizer, AdamW, get_linear_schedule_with_warmup\n",
    "import torch\n",
    "from torch import nn, optim\n",
    "from torch.utils.data import Dataset, DataLoader\n",
    "import torch.nn.functional as F\n",
    "\n",
    "from sklearn.model_selection import train_test_split\n",
    "\n",
    "from transformers import AutoTokenizer, AutoModelForSequenceClassification\n",
    "\n",
    "import time\n",
    "\n",
    "from tqdm.notebook import tqdm"
   ]
  },
  {
   "cell_type": "markdown",
   "id": "009657df",
   "metadata": {},
   "source": [
    "# Загрузка данных"
   ]
  },
  {
   "cell_type": "code",
   "execution_count": 16,
   "id": "260fecb6",
   "metadata": {},
   "outputs": [
    {
     "data": {
      "text/html": [
       "<div>\n",
       "<style scoped>\n",
       "    .dataframe tbody tr th:only-of-type {\n",
       "        vertical-align: middle;\n",
       "    }\n",
       "\n",
       "    .dataframe tbody tr th {\n",
       "        vertical-align: top;\n",
       "    }\n",
       "\n",
       "    .dataframe thead th {\n",
       "        text-align: right;\n",
       "    }\n",
       "</style>\n",
       "<table border=\"1\" class=\"dataframe\">\n",
       "  <thead>\n",
       "    <tr style=\"text-align: right;\">\n",
       "      <th></th>\n",
       "      <th>id</th>\n",
       "      <th>Текст Сообщения</th>\n",
       "      <th>Тематика</th>\n",
       "      <th>Ответственное лицо</th>\n",
       "      <th>Категория</th>\n",
       "    </tr>\n",
       "  </thead>\n",
       "  <tbody>\n",
       "    <tr>\n",
       "      <th>0</th>\n",
       "      <td>2246</td>\n",
       "      <td>Помогите начальник Льговского рэс не реагирует...</td>\n",
       "      <td>Нарушения, связанные с содержанием электросети...</td>\n",
       "      <td>Администрация Льговского района</td>\n",
       "      <td>3</td>\n",
       "    </tr>\n",
       "    <tr>\n",
       "      <th>1</th>\n",
       "      <td>380</td>\n",
       "      <td>&lt;p&gt;По фасаду дома по адресу ул. Урицкого 22 пр...</td>\n",
       "      <td>Аварийные деревья</td>\n",
       "      <td>Администрация города Курска</td>\n",
       "      <td>3</td>\n",
       "    </tr>\n",
       "    <tr>\n",
       "      <th>2</th>\n",
       "      <td>2240</td>\n",
       "      <td>Агресивные собаки. На радуге там стая из подро...</td>\n",
       "      <td>Безнадзорные животные</td>\n",
       "      <td>Администрация города Курска</td>\n",
       "      <td>1</td>\n",
       "    </tr>\n",
       "    <tr>\n",
       "      <th>3</th>\n",
       "      <td>596</td>\n",
       "      <td>&lt;p&gt;На пересечении &amp;nbsp;улиц Сосновская и Бере...</td>\n",
       "      <td>Нескошенная сорная растительность в местах общ...</td>\n",
       "      <td>Комитет дорожного хозяйства города Курска</td>\n",
       "      <td>3</td>\n",
       "    </tr>\n",
       "    <tr>\n",
       "      <th>4</th>\n",
       "      <td>1797</td>\n",
       "      <td>&lt;p style=`text-align:justify;`&gt;&lt;span style=`ba...</td>\n",
       "      <td>Аварийные деревья</td>\n",
       "      <td>Комитет городского хозяйства города Курска</td>\n",
       "      <td>3</td>\n",
       "    </tr>\n",
       "  </tbody>\n",
       "</table>\n",
       "</div>"
      ],
      "text/plain": [
       "     id                                    Текст Сообщения  \\\n",
       "0  2246  Помогите начальник Льговского рэс не реагирует...   \n",
       "1   380  <p>По фасаду дома по адресу ул. Урицкого 22 пр...   \n",
       "2  2240  Агресивные собаки. На радуге там стая из подро...   \n",
       "3   596  <p>На пересечении &nbsp;улиц Сосновская и Бере...   \n",
       "4  1797  <p style=`text-align:justify;`><span style=`ba...   \n",
       "\n",
       "                                            Тематика  \\\n",
       "0  Нарушения, связанные с содержанием электросети...   \n",
       "1                                  Аварийные деревья   \n",
       "2                              Безнадзорные животные   \n",
       "3  Нескошенная сорная растительность в местах общ...   \n",
       "4                                  Аварийные деревья   \n",
       "\n",
       "                           Ответственное лицо  Категория  \n",
       "0             Администрация Льговского района          3  \n",
       "1                 Администрация города Курска          3  \n",
       "2                 Администрация города Курска          1  \n",
       "3   Комитет дорожного хозяйства города Курска          3  \n",
       "4  Комитет городского хозяйства города Курска          3  "
      ]
     },
     "execution_count": 16,
     "metadata": {},
     "output_type": "execute_result"
    }
   ],
   "source": [
    "df_original = pd.read_csv('train_dataset_train.csv')\n",
    "df_original.head()"
   ]
  },
  {
   "cell_type": "code",
   "execution_count": 17,
   "id": "27277a91",
   "metadata": {},
   "outputs": [
    {
     "data": {
      "text/html": [
       "<div>\n",
       "<style scoped>\n",
       "    .dataframe tbody tr th:only-of-type {\n",
       "        vertical-align: middle;\n",
       "    }\n",
       "\n",
       "    .dataframe tbody tr th {\n",
       "        vertical-align: top;\n",
       "    }\n",
       "\n",
       "    .dataframe thead th {\n",
       "        text-align: right;\n",
       "    }\n",
       "</style>\n",
       "<table border=\"1\" class=\"dataframe\">\n",
       "  <thead>\n",
       "    <tr style=\"text-align: right;\">\n",
       "      <th></th>\n",
       "      <th>text</th>\n",
       "      <th>tema</th>\n",
       "      <th>bailee</th>\n",
       "      <th>categories</th>\n",
       "    </tr>\n",
       "  </thead>\n",
       "  <tbody>\n",
       "    <tr>\n",
       "      <th>0</th>\n",
       "      <td>&lt; p &gt; Добрый день. &amp; nbsp ; &lt; / p &gt; &lt; p &gt; по о...</td>\n",
       "      <td>Пешеходные переходы на дорогах в границах горо...</td>\n",
       "      <td>Комитет природных ресурсов Курской области</td>\n",
       "      <td>0</td>\n",
       "    </tr>\n",
       "    <tr>\n",
       "      <th>1</th>\n",
       "      <td>Напомним, в д. Старый Свет уже 3 дня не чистят...</td>\n",
       "      <td>Очистка от снега и наледи дорог в границах гор...</td>\n",
       "      <td>Администрация Железногорского района</td>\n",
       "      <td>0</td>\n",
       "    </tr>\n",
       "    <tr>\n",
       "      <th>2</th>\n",
       "      <td>&lt; p &gt; Детский день. просят помощи в решении на...</td>\n",
       "      <td>Нарушение дорожного покрытия (ямы)  на дорогах...</td>\n",
       "      <td>Комитет городского хозяйства города Курска</td>\n",
       "      <td>0</td>\n",
       "    </tr>\n",
       "    <tr>\n",
       "      <th>3</th>\n",
       "      <td>&lt; 380 &gt; Минска &amp; 2 ; &lt; / en &gt;</td>\n",
       "      <td>Нарушение дорожного покрытия (ямы)  на дорогах...</td>\n",
       "      <td>Комитет дорожного хозяйства города Курска</td>\n",
       "      <td>0</td>\n",
       "    </tr>\n",
       "    <tr>\n",
       "      <th>4</th>\n",
       "      <td>&lt; p &gt; Добрый день. Сегодня 17. 08. 2021 напрот...</td>\n",
       "      <td>Пешеходные переходы на дорогах в границах горо...</td>\n",
       "      <td>Комитет дорожного хозяйства города Курска</td>\n",
       "      <td>0</td>\n",
       "    </tr>\n",
       "  </tbody>\n",
       "</table>\n",
       "</div>"
      ],
      "text/plain": [
       "                                                text  \\\n",
       "0  < p > Добрый день. & nbsp ; < / p > < p > по о...   \n",
       "1  Напомним, в д. Старый Свет уже 3 дня не чистят...   \n",
       "2  < p > Детский день. просят помощи в решении на...   \n",
       "3                      < 380 > Минска & 2 ; < / en >   \n",
       "4  < p > Добрый день. Сегодня 17. 08. 2021 напрот...   \n",
       "\n",
       "                                                tema  \\\n",
       "0  Пешеходные переходы на дорогах в границах горо...   \n",
       "1  Очистка от снега и наледи дорог в границах гор...   \n",
       "2  Нарушение дорожного покрытия (ямы)  на дорогах...   \n",
       "3  Нарушение дорожного покрытия (ямы)  на дорогах...   \n",
       "4  Пешеходные переходы на дорогах в границах горо...   \n",
       "\n",
       "                                       bailee  categories  \n",
       "0  Комитет природных ресурсов Курской области           0  \n",
       "1        Администрация Железногорского района           0  \n",
       "2  Комитет городского хозяйства города Курска           0  \n",
       "3   Комитет дорожного хозяйства города Курска           0  \n",
       "4   Комитет дорожного хозяйства города Курска           0  "
      ]
     },
     "execution_count": 17,
     "metadata": {},
     "output_type": "execute_result"
    }
   ],
   "source": [
    "df_aug = pd.read_csv('train_aug_bert_model.csv')\n",
    "df_aug.head()"
   ]
  },
  {
   "cell_type": "code",
   "execution_count": 18,
   "id": "33030ef4",
   "metadata": {},
   "outputs": [],
   "source": [
    "df_org = df_original[['Текст Сообщения', 'Категория']]\n",
    "df_org.columns = ['text', 'target']\n",
    "df_aug = df_aug[['text', 'categories']]\n",
    "df_aug.columns = ['text', 'target']"
   ]
  },
  {
   "cell_type": "code",
   "execution_count": 19,
   "id": "eaca7b38",
   "metadata": {},
   "outputs": [
    {
     "name": "stdout",
     "output_type": "stream",
     "text": [
      "(11344, 2) (2836, 2)\n"
     ]
    }
   ],
   "source": [
    "df_aug_train, df_aug_test = train_test_split(df_aug, test_size=0.2, random_state=42)\n",
    "print(df_aug_train.shape, df_aug_test.shape)"
   ]
  },
  {
   "cell_type": "code",
   "execution_count": 20,
   "id": "24471b7e",
   "metadata": {},
   "outputs": [],
   "source": [
    "df_train = pd.concat([df_org, df_aug_train])"
   ]
  },
  {
   "cell_type": "code",
   "execution_count": 21,
   "id": "ac2a214b",
   "metadata": {},
   "outputs": [
    {
     "data": {
      "text/plain": [
       "<AxesSubplot:xlabel='target', ylabel='count'>"
      ]
     },
     "execution_count": 21,
     "metadata": {},
     "output_type": "execute_result"
    },
    {
     "data": {
      "image/png": "[encoded data removed]",
      "text/plain": [
       "<Figure size 432x288 with 1 Axes>"
      ]
     },
     "metadata": {
      "needs_background": "light"
     },
     "output_type": "display_data"
    }
   ],
   "source": [
    "# посмотрим на баланс классов, после разделения на тренировочные и проверочные\n",
    "sns.countplot(x='target', data=df_train)"
   ]
  },
  {
   "cell_type": "code",
   "execution_count": 22,
   "id": "6a9d0971",
   "metadata": {},
   "outputs": [],
   "source": [
    "## очистим данные от тегов, чисел, знаков припинания\n",
    "def preprocessing_text(text):\n",
    "    text = text.lower()\n",
    "    text = re.sub(r'\\<[^>]*\\>', '', text)\n",
    "    text = re.sub(r'[a-zA-Z]', '', text)\n",
    "    text = re.sub(r'\\d', '', text)\n",
    "    text = re.sub('[%s]' % re.escape(\"\"\"!\"#$%&'()*+,-./:;<=>?@[\\]^_`{|}~\"\"\"), '', text)\n",
    "    text = re.sub('\\s+', ' ', text)\n",
    "    return text"
   ]
  },
  {
   "cell_type": "code",
   "execution_count": 23,
   "id": "76fae8b1",
   "metadata": {},
   "outputs": [],
   "source": [
    "df_train['text'] = df_train['text'].apply(preprocessing_text)\n",
    "df_aug_test['text'] = df_aug_test['text'].apply(preprocessing_text)"
   ]
  },
  {
   "cell_type": "markdown",
   "id": "6a09a025",
   "metadata": {},
   "source": [
    "# Создание DataLoder"
   ]
  },
  {
   "cell_type": "code",
   "execution_count": 30,
   "id": "8dee57dd",
   "metadata": {},
   "outputs": [],
   "source": [
    "model_name1 = 'DeepPavlov/rubert-base-cased'"
   ]
  },
  {
   "cell_type": "code",
   "execution_count": 31,
   "id": "33107ea6",
   "metadata": {},
   "outputs": [],
   "source": [
    "tokenizer = AutoTokenizer.from_pretrained(model_name1)\n",
    "max_length = 500"
   ]
  },
  {
   "cell_type": "code",
   "execution_count": 32,
   "id": "65d12963",
   "metadata": {},
   "outputs": [],
   "source": [
    "class MessageDataset(Dataset):\n",
    "    def __init__(self, dataset=df_train, tokenizer=tokenizer, max_length=max_length):\n",
    "        self.message = dataset['text'].tolist()\n",
    "        self.target = dataset['target'].tolist()\n",
    "        self.tokenizer = tokenizer\n",
    "        self.max_length = max_length\n",
    "        \n",
    "        \n",
    "    def __getitem__(self, idx):\n",
    "        \"\"\"\n",
    "        Return dict with tokens, attention_mask and label\n",
    "        \"\"\"\n",
    "        text = self.message[idx]\n",
    "        target = self.target[idx]\n",
    "        \n",
    "        tokenizer_output = self.tokenizer.encode_plus(text,\n",
    "                                          max_length=self.max_length,\n",
    "                                          padding=\"max_length\",\n",
    "                                          return_tensors=\"pt\"\n",
    "                                         )        \n",
    "        return {\n",
    "            \"input_ids\": tokenizer_output['input_ids'][0][:self.max_length], \n",
    "            \"mask\": tokenizer_output['attention_mask'][0][:self.max_length],\n",
    "            \"target\": target\n",
    "        }\n",
    "        \n",
    "    def __len__(self):\n",
    "        \"\"\"\n",
    "        Return length of dataset\n",
    "        \"\"\"\n",
    "        return len(self.target)"
   ]
  },
  {
   "cell_type": "code",
   "execution_count": 33,
   "id": "46080108",
   "metadata": {},
   "outputs": [],
   "source": [
    "train_dataset = MessageDataset(dataset=df_train)\n",
    "valid_dataset = MessageDataset(dataset=df_aug_test)"
   ]
  },
  {
   "cell_type": "code",
   "execution_count": 34,
   "id": "7b8643f2",
   "metadata": {},
   "outputs": [],
   "source": [
    "batch_size = 8"
   ]
  },
  {
   "cell_type": "code",
   "execution_count": 35,
   "id": "e77c58c3",
   "metadata": {},
   "outputs": [],
   "source": [
    "train_dataloader = DataLoader(\n",
    "                                train_dataset, \n",
    "                                batch_size=batch_size,\n",
    "                                #num_workers=16\n",
    "                                )\n",
    "\n",
    "test_dataloader = DataLoader(\n",
    "                                valid_dataset, \n",
    "                                batch_size=batch_size,\n",
    "                                #num_workers=16\n",
    "                                )"
   ]
  },
  {
   "cell_type": "markdown",
   "id": "96d91820",
   "metadata": {},
   "source": [
    "# Обучение модели "
   ]
  },
  {
   "cell_type": "code",
   "execution_count": 36,
   "id": "8e2d87b9",
   "metadata": {},
   "outputs": [],
   "source": [
    "device = \"cuda\" if torch.cuda.is_available else \"cpu\""
   ]
  },
  {
   "cell_type": "code",
   "execution_count": 37,
   "id": "5aba8afd",
   "metadata": {},
   "outputs": [
    {
     "name": "stderr",
     "output_type": "stream",
     "text": [
      "Some weights of the model checkpoint at DeepPavlov/rubert-base-cased were not used when initializing BertForSequenceClassification: ['cls.predictions.bias', 'cls.predictions.transform.dense.weight', 'cls.predictions.transform.LayerNorm.weight', 'cls.seq_relationship.bias', 'cls.predictions.decoder.weight', 'cls.predictions.transform.dense.bias', 'cls.seq_relationship.weight', 'cls.predictions.decoder.bias', 'cls.predictions.transform.LayerNorm.bias']\n",
      "- This IS expected if you are initializing BertForSequenceClassification from the checkpoint of a model trained on another task or with another architecture (e.g. initializing a BertForSequenceClassification model from a BertForPreTraining model).\n",
      "- This IS NOT expected if you are initializing BertForSequenceClassification from the checkpoint of a model that you expect to be exactly identical (initializing a BertForSequenceClassification model from a BertForSequenceClassification model).\n",
      "Some weights of BertForSequenceClassification were not initialized from the model checkpoint at DeepPavlov/rubert-base-cased and are newly initialized: ['classifier.weight', 'classifier.bias']\n",
      "You should probably TRAIN this model on a down-stream task to be able to use it for predictions and inference.\n"
     ]
    }
   ],
   "source": [
    "model_1 = AutoModelForSequenceClassification.from_pretrained(model_name1)"
   ]
  },
  {
   "cell_type": "code",
   "execution_count": 38,
   "id": "66aad19b",
   "metadata": {},
   "outputs": [],
   "source": [
    "model_1.classifier = nn.Linear(in_features=768, out_features=17, bias=True)"
   ]
  },
  {
   "cell_type": "code",
   "execution_count": 39,
   "id": "cba1ef91",
   "metadata": {},
   "outputs": [],
   "source": [
    "model_1 = model_1.to(device)"
   ]
  },
  {
   "cell_type": "code",
   "execution_count": 40,
   "id": "31c0d2b2",
   "metadata": {},
   "outputs": [],
   "source": [
    "def train(model, iterator, optimizer, criterion, clip, train_history=None, valid_history=None):\n",
    "    model.train()\n",
    "    \n",
    "    epoch_loss = 0\n",
    "    history = []\n",
    "    for i, batch in tqdm(enumerate(iterator)):      \n",
    "        \n",
    "        input_batch = batch['input_ids'].to(device)\n",
    "        mask_batch = batch['mask'].to(device)\n",
    "        labels = batch['target'].to(device)        \n",
    "        optimizer.zero_grad()\n",
    "        \n",
    "        output = model(input_ids=input_batch, attention_mask=mask_batch).logits        \n",
    "        loss = criterion(output, labels) \n",
    "        loss.backward()\n",
    "        torch.nn.utils.clip_grad_norm_(model.parameters(), clip)\n",
    "        optimizer.step()\n",
    "        \n",
    "        epoch_loss += loss.item()\n",
    "        \n",
    "        history.append(loss.cpu().data.numpy())\n",
    "\n",
    "        \n",
    "    return epoch_loss / (i + 1)\n",
    "\n",
    "def evaluate(model, iterator, criterion):\n",
    "    \n",
    "    model.eval()\n",
    "    \n",
    "    epoch_loss = 0\n",
    "    \n",
    "    history = []\n",
    "    \n",
    "    with torch.no_grad():\n",
    "    \n",
    "        for i, batch in tqdm(enumerate(iterator)):\n",
    "\n",
    "            input_batch = batch['input_ids'].to(device)\n",
    "            mask_batch = batch['mask'].to(device)\n",
    "            labels = batch['target'].to(device)\n",
    "            \n",
    "            output = model(input_ids=input_batch, attention_mask=mask_batch).logits\n",
    "            \n",
    "            loss = criterion(output, labels)\n",
    "            \n",
    "            epoch_loss += loss.item()\n",
    "        \n",
    "    return epoch_loss / (i + 1)\n",
    "\n",
    "def epoch_time(start_time, end_time):\n",
    "    elapsed_time = end_time - start_time\n",
    "    elapsed_mins = int(elapsed_time / 60)\n",
    "    elapsed_secs = int(elapsed_time - (elapsed_mins * 60))\n",
    "    return elapsed_mins, elapsed_secs"
   ]
  },
  {
   "cell_type": "code",
   "execution_count": 41,
   "id": "87338abf",
   "metadata": {},
   "outputs": [],
   "source": [
    "lr = 1e-6\n",
    "optimizer = torch.optim.AdamW(model_1.parameters(), lr=lr)\n",
    "criterion = torch.nn.CrossEntropyLoss()"
   ]
  },
  {
   "cell_type": "code",
   "execution_count": 43,
   "id": "4ae17dd3",
   "metadata": {
    "scrolled": true
   },
   "outputs": [
    {
     "name": "stderr",
     "output_type": "stream",
     "text": [
      "1668it [11:39,  2.38it/s]\n",
      "355it [00:43,  8.17it/s]\n"
     ]
    },
    {
     "name": "stdout",
     "output_type": "stream",
     "text": [
      "Epoch: 01 | Time: 12m 23s\n",
      "\tTrain Loss: 0.069\n",
      "\t Val. Loss: 0.076\n"
     ]
    },
    {
     "name": "stderr",
     "output_type": "stream",
     "text": [
      "1668it [11:38,  2.39it/s]\n",
      "355it [00:42,  8.26it/s]\n"
     ]
    },
    {
     "name": "stdout",
     "output_type": "stream",
     "text": [
      "Epoch: 02 | Time: 12m 21s\n",
      "\tTrain Loss: 0.058\n",
      "\t Val. Loss: 0.087\n"
     ]
    },
    {
     "name": "stderr",
     "output_type": "stream",
     "text": [
      "1668it [11:39,  2.39it/s]\n",
      "355it [00:42,  8.27it/s]\n"
     ]
    },
    {
     "name": "stdout",
     "output_type": "stream",
     "text": [
      "Epoch: 03 | Time: 12m 22s\n",
      "\tTrain Loss: 0.050\n",
      "\t Val. Loss: 0.079\n"
     ]
    },
    {
     "name": "stderr",
     "output_type": "stream",
     "text": [
      "1668it [11:14,  2.47it/s]\n",
      "355it [00:43,  8.11it/s]\n"
     ]
    },
    {
     "name": "stdout",
     "output_type": "stream",
     "text": [
      "Epoch: 04 | Time: 11m 58s\n",
      "\tTrain Loss: 0.046\n",
      "\t Val. Loss: 0.081\n"
     ]
    },
    {
     "name": "stderr",
     "output_type": "stream",
     "text": [
      "1668it [11:41,  2.38it/s]\n",
      "355it [00:43,  8.25it/s]"
     ]
    },
    {
     "name": "stdout",
     "output_type": "stream",
     "text": [
      "Epoch: 05 | Time: 12m 24s\n",
      "\tTrain Loss: 0.034\n",
      "\t Val. Loss: 0.079\n"
     ]
    },
    {
     "name": "stderr",
     "output_type": "stream",
     "text": [
      "\n"
     ]
    }
   ],
   "source": [
    "train_history = []\n",
    "valid_history = []\n",
    "\n",
    "N_EPOCHS = 5\n",
    "CLIP = 1\n",
    "\n",
    "best_valid_loss = float('inf')\n",
    "\n",
    "for epoch in range(N_EPOCHS):\n",
    "    \n",
    "    start_time = time.time()\n",
    "    \n",
    "    train_loss = train(model_1, train_dataloader, optimizer, criterion, CLIP, train_history, valid_history)\n",
    "    valid_loss = evaluate(model_1, test_dataloader, criterion)\n",
    "    \n",
    "    end_time = time.time()\n",
    "    \n",
    "    epoch_mins, epoch_secs = epoch_time(start_time, end_time)\n",
    "    \n",
    "    if valid_loss < best_valid_loss:\n",
    "        best_valid_loss = valid_loss\n",
    "        torch.save(model_1.state_dict(), 'best-val-model_bert_full2.pt')\n",
    "    \n",
    "    train_history.append(train_loss)\n",
    "    valid_history.append(valid_loss)\n",
    "    print(f'Epoch: {epoch+1:02} | Time: {epoch_mins}m {epoch_secs}s')\n",
    "    print(f'\\tTrain Loss: {train_loss:.3f}')\n",
    "    print(f'\\t Val. Loss: {valid_loss:.3f}')"
   ]
  },
  {
   "cell_type": "code",
   "execution_count": null,
   "id": "da73d33d",
   "metadata": {},
   "outputs": [],
   "source": []
  }
 ],
 "metadata": {
  "kernelspec": {
   "display_name": "Python [conda env:torch2]",
   "language": "python",
   "name": "conda-env-torch2-py"
  },
  "language_info": {
   "codemirror_mode": {
    "name": "ipython",
    "version": 3
   },
   "file_extension": ".py",
   "mimetype": "text/x-python",
   "name": "python",
   "nbconvert_exporter": "python",
   "pygments_lexer": "ipython3",
   "version": "3.10.4"
  },
  "toc": {
   "base_numbering": 1,
   "nav_menu": {},
   "number_sections": true,
   "sideBar": true,
   "skip_h1_title": false,
   "title_cell": "Table of Contents",
   "title_sidebar": "Contents",
   "toc_cell": false,
   "toc_position": {},
   "toc_section_display": true,
   "toc_window_display": false
  }
 },
 "nbformat": 4,
 "nbformat_minor": 5
}
